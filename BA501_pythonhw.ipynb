{
 "cells": [
  {
   "cell_type": "code",
   "execution_count": 1,
   "metadata": {},
   "outputs": [],
   "source": [
    "import numpy as np\n",
    "import pandas as pd"
   ]
  },
  {
   "cell_type": "code",
   "execution_count": 8,
   "metadata": {},
   "outputs": [
    {
     "name": "stdout",
     "output_type": "stream",
     "text": [
      "[('4175004175004172', 'VISAELECTRON'), ('4917491749174917', 'VISAELECTRON'), ('346416800707698', 'AMEX'), ('376416800707698', 'AMEX'), ('37641680070769832112', 'Unclassified'), ('36641680070769', 'Diners Club'), ('54545641680080769', 'Unclassified')]\n"
     ]
    }
   ],
   "source": [
    "# Homework 3\n",
    "\n",
    "def getIssuer (num):\n",
    "    length = len(num)\n",
    "    if (num[0:2] == \"34\" or num[0:2] == \"37\") and length == 15:\n",
    "        return \"AMEX\"\n",
    "    elif num[0:2] == \"36\" and length == 14:\n",
    "        return \"Diners Club\"\n",
    "    elif (num.startswith(\"4026\") or num.startswith(\"417500\") or num.startswith(\"4405\") or num.startswith (\"4913\") or num.startswith(\"4917\")) and length == 16:\n",
    "        return \"VISAELECTRON\"\n",
    "    elif num[0] == \"4\" and length == 16:\n",
    "        return \"VISA\"\n",
    "    else: \n",
    "        return \"Unclassified\"\n",
    "\n",
    "cardNumbers = ['4175004175004172','4917491749174917','346416800707698','376416800707698',\n",
    "               '37641680070769832112','36641680070769','54545641680080769']\n",
    "\n",
    "result = []\n",
    "for i in range(len(cardNumbers)):\n",
    "    result.append((cardNumbers[i],getIssuer(cardNumbers[i])))\n",
    "\n",
    "print(result)\n",
    "               "
   ]
  },
  {
   "cell_type": "code",
   "execution_count": 9,
   "metadata": {},
   "outputs": [
    {
     "name": "stdout",
     "output_type": "stream",
     "text": [
      "[1, 2, 3, 4, 5, 6, 7, 8, 12, 14]\n"
     ]
    }
   ],
   "source": [
    "# Howework 1\n",
    "# If the dataset is in pandas dataframe, then we can use the drop_duplicates built in function\n",
    "# Another option:\n",
    "# Go through every element in the dataset, if we have never encountered it before, put it in a\n",
    "# pool. If we meet an element that is already in the pool, ignore it and keep going. Return the pool.\n",
    "L = [1,2,3,4,4,4,4,5,3,6,5,7,8,12,14,12]\n",
    "def remove_dup (L):\n",
    "    result = []\n",
    "    for i in range(len(L)):\n",
    "        if L[i] not in result:\n",
    "            result.append(L[i])\n",
    "    return result\n",
    "print(remove_dup(L))"
   ]
  },
  {
   "cell_type": "code",
   "execution_count": null,
   "metadata": {},
   "outputs": [],
   "source": [
    "# Homework 2\n",
    "# total number of accepted divided by total number of requested * 100%\n",
    "print(request_accepted.count()/friend_request.count())"
   ]
  }
 ],
 "metadata": {
  "kernelspec": {
   "display_name": "Python 3",
   "language": "python",
   "name": "python3"
  },
  "language_info": {
   "codemirror_mode": {
    "name": "ipython",
    "version": 3
   },
   "file_extension": ".py",
   "mimetype": "text/x-python",
   "name": "python",
   "nbconvert_exporter": "python",
   "pygments_lexer": "ipython3",
   "version": "3.6.4"
  }
 },
 "nbformat": 4,
 "nbformat_minor": 2
}
